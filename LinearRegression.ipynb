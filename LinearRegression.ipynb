{
  "nbformat": 4,
  "nbformat_minor": 0,
  "metadata": {
    "colab": {
      "provenance": [],
      "authorship_tag": "ABX9TyOduXmn/cIsLzs4Sck8n/B8",
      "include_colab_link": true
    },
    "kernelspec": {
      "name": "python3",
      "display_name": "Python 3"
    },
    "language_info": {
      "name": "python"
    }
  },
  "cells": [
    {
      "cell_type": "markdown",
      "metadata": {
        "id": "view-in-github",
        "colab_type": "text"
      },
      "source": [
        "<a href=\"https://colab.research.google.com/github/prakhar-kt/Pytorch_projects/blob/main/LinearRegression.ipynb\" target=\"_parent\"><img src=\"https://colab.research.google.com/assets/colab-badge.svg\" alt=\"Open In Colab\"/></a>"
      ]
    },
    {
      "cell_type": "code",
      "execution_count": 1,
      "metadata": {
        "id": "iYCB7oXCEn6C"
      },
      "outputs": [],
      "source": [
        "import numpy as np\n",
        "import torch\n",
        "import torch.nn as nn\n",
        "import matplotlib.pyplot as plt"
      ]
    },
    {
      "cell_type": "code",
      "source": [
        "w = 0.7\n",
        "b = 0.3\n",
        "\n",
        "start = 0\n",
        "end = 1\n",
        "step = 0.02\n",
        "\n",
        "x = torch.arange(start,end,step).unsqueeze(dim=1)\n",
        "y = w * x + b\n",
        "\n",
        "x[:10], y[:10]"
      ],
      "metadata": {
        "colab": {
          "base_uri": "https://localhost:8080/"
        },
        "id": "TQ825656E3XQ",
        "outputId": "66e537fe-7074-4245-ab1f-0775f8084954"
      },
      "execution_count": 3,
      "outputs": [
        {
          "output_type": "execute_result",
          "data": {
            "text/plain": [
              "(tensor([[0.0000],\n",
              "         [0.0200],\n",
              "         [0.0400],\n",
              "         [0.0600],\n",
              "         [0.0800],\n",
              "         [0.1000],\n",
              "         [0.1200],\n",
              "         [0.1400],\n",
              "         [0.1600],\n",
              "         [0.1800]]),\n",
              " tensor([[0.3000],\n",
              "         [0.3140],\n",
              "         [0.3280],\n",
              "         [0.3420],\n",
              "         [0.3560],\n",
              "         [0.3700],\n",
              "         [0.3840],\n",
              "         [0.3980],\n",
              "         [0.4120],\n",
              "         [0.4260]]))"
            ]
          },
          "metadata": {},
          "execution_count": 3
        }
      ]
    },
    {
      "cell_type": "code",
      "source": [
        "train_split = int(0.8 * len(x))\n",
        "X_train, y_train = x[:train_split], y[:train_split]\n",
        "X_test, y_test = x[train_split:], y[train_split:]"
      ],
      "metadata": {
        "id": "cRQ9vdSPFdIT"
      },
      "execution_count": 18,
      "outputs": []
    },
    {
      "cell_type": "code",
      "source": [
        "def plot_predictions(xtrain=X_train, \n",
        "                     ytrain=y_train,\n",
        "                     xtest=X_test,\n",
        "                     ytest=y_test,\n",
        "                     predictions=None):\n",
        "    \n",
        "    plt.scatter(xtrain,ytrain, c='b', s=4,label='Training Data')\n",
        "    plt.scatter(xtest,ytest, c='g', s=4, label='Test Data')\n",
        "    \n",
        "    if predictions is not None:\n",
        "        plt.scatter(xtest,predictions, c='r', s=4, label='Predictions')\n",
        "\n",
        "    plt.xlabel(\"X\")\n",
        "    plt.ylabel(\"y\")\n",
        "    plt.title(\"Training, Test and Predictions data\")\n",
        "    plt.legend();"
      ],
      "metadata": {
        "id": "jhXTO1zzLvM3"
      },
      "execution_count": 43,
      "outputs": []
    },
    {
      "cell_type": "code",
      "source": [
        "plot_predictions(X_train, y_train, X_test, y_test)"
      ],
      "metadata": {
        "colab": {
          "base_uri": "https://localhost:8080/",
          "height": 472
        },
        "id": "aEMjhp1YNd6O",
        "outputId": "de1783e9-e516-4360-a050-846df8bc3fd2"
      },
      "execution_count": 29,
      "outputs": [
        {
          "output_type": "display_data",
          "data": {
            "text/plain": [
              "<Figure size 640x480 with 1 Axes>"
            ],
            "image/png": "[encoded data removed]"
          },
          "metadata": {}
        }
      ]
    },
    {
      "cell_type": "code",
      "source": [
        "class LinearRegressionModel(nn.Module):\n",
        "\n",
        "    \n",
        "    \n",
        "    def __init__(self):\n",
        "\n",
        "        super().__init__()\n",
        "\n",
        "        self.linear_layer = nn.Linear(in_features=1,\n",
        "                                      out_features=1)\n",
        "    \n",
        "    def forward(self, x: torch.tensor) -> torch.tensor:\n",
        "\n",
        "        return self.linear_layer(x)\n",
        "\n"
      ],
      "metadata": {
        "id": "lxuU7E9rFw0l"
      },
      "execution_count": 10,
      "outputs": []
    },
    {
      "cell_type": "code",
      "source": [
        "model_1 = LinearRegressionModel()"
      ],
      "metadata": {
        "id": "8LqhUOdIGiDQ"
      },
      "execution_count": 11,
      "outputs": []
    },
    {
      "cell_type": "code",
      "source": [
        "model_1"
      ],
      "metadata": {
        "colab": {
          "base_uri": "https://localhost:8080/"
        },
        "id": "WlwLyLxWJSvZ",
        "outputId": "8f79e12f-11d0-44e6-d5d0-a21b60afafac"
      },
      "execution_count": 12,
      "outputs": [
        {
          "output_type": "execute_result",
          "data": {
            "text/plain": [
              "LinearRegressionModel(\n",
              "  (linear_layer): Linear(in_features=1, out_features=1, bias=True)\n",
              ")"
            ]
          },
          "metadata": {},
          "execution_count": 12
        }
      ]
    },
    {
      "cell_type": "code",
      "source": [
        "model_1.state_dict()"
      ],
      "metadata": {
        "colab": {
          "base_uri": "https://localhost:8080/"
        },
        "id": "_fPgEGr0JUVu",
        "outputId": "fbe557f9-f69d-4783-db78-452e699fcc9b"
      },
      "execution_count": 13,
      "outputs": [
        {
          "output_type": "execute_result",
          "data": {
            "text/plain": [
              "OrderedDict([('linear_layer.weight', tensor([[-0.2536]])),\n",
              "             ('linear_layer.bias', tensor([0.7230]))])"
            ]
          },
          "metadata": {},
          "execution_count": 13
        }
      ]
    },
    {
      "cell_type": "code",
      "source": [
        "device = 'cuda' if torch.cuda.is_available() else 'cpu'\n",
        "device"
      ],
      "metadata": {
        "colab": {
          "base_uri": "https://localhost:8080/",
          "height": 35
        },
        "id": "RY4O-rn_JY04",
        "outputId": "be4df146-4d1c-4bcf-a3c1-eb9321521320"
      },
      "execution_count": 15,
      "outputs": [
        {
          "output_type": "execute_result",
          "data": {
            "text/plain": [
              "'cpu'"
            ],
            "application/vnd.google.colaboratory.intrinsic+json": {
              "type": "string"
            }
          },
          "metadata": {},
          "execution_count": 15
        }
      ]
    },
    {
      "cell_type": "code",
      "source": [
        "next(model_1.parameters()).device"
      ],
      "metadata": {
        "colab": {
          "base_uri": "https://localhost:8080/"
        },
        "id": "GGbUZq7TLjvf",
        "outputId": "2b68bf24-b75b-428b-c272-bdce90c159b1"
      },
      "execution_count": 30,
      "outputs": [
        {
          "output_type": "execute_result",
          "data": {
            "text/plain": [
              "device(type='cpu')"
            ]
          },
          "metadata": {},
          "execution_count": 30
        }
      ]
    },
    {
      "cell_type": "code",
      "source": [
        "model_1.to(device)\n",
        "next(model_1.parameters()).device"
      ],
      "metadata": {
        "colab": {
          "base_uri": "https://localhost:8080/"
        },
        "id": "0V6_NPNIIAaM",
        "outputId": "76831e32-8a9c-4338-8c31-6a0e5f523f3f"
      },
      "execution_count": 31,
      "outputs": [
        {
          "output_type": "execute_result",
          "data": {
            "text/plain": [
              "device(type='cpu')"
            ]
          },
          "metadata": {},
          "execution_count": 31
        }
      ]
    },
    {
      "cell_type": "code",
      "source": [
        "loss_fn = nn.L1Loss()\n",
        "optimizer = torch.optim.SGD(params=model_1.parameters(),lr=0.01)"
      ],
      "metadata": {
        "id": "29mcjiIAITIt"
      },
      "execution_count": 32,
      "outputs": []
    },
    {
      "cell_type": "code",
      "source": [
        "epochs=1000"
      ],
      "metadata": {
        "id": "R-SaNHXxIt6g"
      },
      "execution_count": 34,
      "outputs": []
    },
    {
      "cell_type": "code",
      "source": [
        "epoch_counts = []\n",
        "training_losses = []\n",
        "test_losses = []\n",
        "\n",
        "for epoch in range(epochs):\n",
        "\n",
        "    model_1.train()\n",
        "\n",
        "    y_pred = model_1(X_train)\n",
        "\n",
        "    loss = loss_fn(y_pred, y_train)\n",
        "\n",
        "    optimizer.zero_grad()\n",
        "    loss.backward()\n",
        "    optimizer.step()\n",
        "\n",
        "    model_1.eval()\n",
        "\n",
        "    with torch.inference_mode():\n",
        "        test_pred = model_1(X_test)\n",
        "        \n",
        "        test_loss = loss_fn(test_pred, y_test)\n",
        "\n",
        "    if epoch % 100 == 0:\n",
        "        epoch_counts.append(epoch)\n",
        "        training_losses.append(loss)\n",
        "        test_losses.append(test_loss)\n",
        "\n",
        "        print(f\"Epoch {epoch}: Training Loss {loss}: Test Loss {test_loss}\")\n",
        "\n"
      ],
      "metadata": {
        "colab": {
          "base_uri": "https://localhost:8080/"
        },
        "id": "wInpebiCIxX_",
        "outputId": "747698d4-634c-4a1a-e9db-d442fdba64ca"
      },
      "execution_count": 36,
      "outputs": [
        {
          "output_type": "stream",
          "name": "stdout",
          "text": [
            "Epoch 0: Training Loss 0.19409409165382385: Test Loss 0.42596951127052307\n",
            "Epoch 100: Training Loss 0.1589544415473938: Test Loss 0.3707478940486908\n",
            "Epoch 200: Training Loss 0.1246127337217331: Test Loss 0.2907722294330597\n",
            "Epoch 300: Training Loss 0.09026798605918884: Test Loss 0.2101094275712967\n",
            "Epoch 400: Training Loss 0.05592761188745499: Test Loss 0.1301315277814865\n",
            "Epoch 500: Training Loss 0.021581456065177917: Test Loss 0.04946677014231682\n",
            "Epoch 600: Training Loss 0.004532742314040661: Test Loss 0.010834962129592896\n",
            "Epoch 700: Training Loss 0.004532742314040661: Test Loss 0.010834962129592896\n",
            "Epoch 800: Training Loss 0.004532742314040661: Test Loss 0.010834962129592896\n",
            "Epoch 900: Training Loss 0.004532742314040661: Test Loss 0.010834962129592896\n"
          ]
        }
      ]
    },
    {
      "cell_type": "code",
      "source": [
        "print(model_1.state_dict())"
      ],
      "metadata": {
        "colab": {
          "base_uri": "https://localhost:8080/"
        },
        "id": "UZPNYEiUKv_K",
        "outputId": "cf535dc2-ef09-459a-8580-7d1ebc12b014"
      },
      "execution_count": 37,
      "outputs": [
        {
          "output_type": "stream",
          "name": "stdout",
          "text": [
            "OrderedDict([('linear_layer.weight', tensor([[0.6962]])), ('linear_layer.bias', tensor([0.3060]))])\n"
          ]
        }
      ]
    },
    {
      "cell_type": "code",
      "source": [
        "predictions = model_1(X_test)"
      ],
      "metadata": {
        "id": "lQhXrGwaK9ie"
      },
      "execution_count": 38,
      "outputs": []
    },
    {
      "cell_type": "code",
      "source": [
        "plot_predictions(predictions=predictions.detach().numpy())"
      ],
      "metadata": {
        "colab": {
          "base_uri": "https://localhost:8080/",
          "height": 472
        },
        "id": "V-789nXOLPG1",
        "outputId": "b98b5cc1-a9c4-4e04-b73c-6da035170cc4"
      },
      "execution_count": 46,
      "outputs": [
        {
          "output_type": "display_data",
          "data": {
            "text/plain": [
              "<Figure size 640x480 with 1 Axes>"
            ],
            "image/png": "[encoded data removed]"
          },
          "metadata": {}
        }
      ]
    },
    {
      "cell_type": "code",
      "source": [
        "from pathlib import Path\n",
        "\n",
        "model_path = Path('models')\n",
        "model_path.mkdir(parents=True,exist_ok=True)"
      ],
      "metadata": {
        "id": "1iIfVjUoL0gk"
      },
      "execution_count": 48,
      "outputs": []
    },
    {
      "cell_type": "code",
      "source": [
        "model_name = 'linear_reg_model_1.pth'\n",
        "model_dir = model_path / model_name"
      ],
      "metadata": {
        "id": "MRaUVFtpNf94"
      },
      "execution_count": 49,
      "outputs": []
    },
    {
      "cell_type": "code",
      "source": [
        "model_dir"
      ],
      "metadata": {
        "colab": {
          "base_uri": "https://localhost:8080/"
        },
        "id": "S8QcXizZN0_N",
        "outputId": "b9c76046-8521-4666-dd36-beaf4e371333"
      },
      "execution_count": 50,
      "outputs": [
        {
          "output_type": "execute_result",
          "data": {
            "text/plain": [
              "PosixPath('models/linear_reg_model_1.pth')"
            ]
          },
          "metadata": {},
          "execution_count": 50
        }
      ]
    },
    {
      "cell_type": "code",
      "source": [
        "torch.save(obj=model_1.state_dict(),\n",
        "           f=model_dir)"
      ],
      "metadata": {
        "id": "z0m8Bq6GN2b3"
      },
      "execution_count": 51,
      "outputs": []
    },
    {
      "cell_type": "code",
      "source": [
        "loaded_model_1 = LinearRegressionModel()\n",
        "\n",
        "loaded_model_1.load_state_dict(torch.load(model_dir))\n",
        "\n",
        "loaded_model_1.to(device)"
      ],
      "metadata": {
        "colab": {
          "base_uri": "https://localhost:8080/"
        },
        "id": "GcM4yZkcOJhY",
        "outputId": "358ec2ac-f422-44e5-97b5-c717f9bd3282"
      },
      "execution_count": 52,
      "outputs": [
        {
          "output_type": "execute_result",
          "data": {
            "text/plain": [
              "LinearRegressionModel(\n",
              "  (linear_layer): Linear(in_features=1, out_features=1, bias=True)\n",
              ")"
            ]
          },
          "metadata": {},
          "execution_count": 52
        }
      ]
    },
    {
      "cell_type": "code",
      "source": [
        "loaded_model_1.eval()\n",
        "with torch.inference_mode():\n",
        "    loaded_model_1_preds = loaded_model_1(X_test)\n",
        "\n",
        "predictions == loaded_model_1_preds"
      ],
      "metadata": {
        "colab": {
          "base_uri": "https://localhost:8080/"
        },
        "id": "bSciSgP4Oe3G",
        "outputId": "cf3793c0-08fa-4f12-8108-284292164a50"
      },
      "execution_count": 54,
      "outputs": [
        {
          "output_type": "execute_result",
          "data": {
            "text/plain": [
              "tensor([[True],\n",
              "        [True],\n",
              "        [True],\n",
              "        [True],\n",
              "        [True],\n",
              "        [True],\n",
              "        [True],\n",
              "        [True],\n",
              "        [True],\n",
              "        [True]])"
            ]
          },
          "metadata": {},
          "execution_count": 54
        }
      ]
    },
    {
      "cell_type": "code",
      "source": [],
      "metadata": {
        "id": "kOmkXjvQO6Qh"
      },
      "execution_count": null,
      "outputs": []
    }
  ]
}